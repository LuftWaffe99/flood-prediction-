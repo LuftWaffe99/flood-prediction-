{
 "cells": [
  {
   "cell_type": "code",
   "execution_count": 1,
   "metadata": {},
   "outputs": [],
   "source": [
    "import math\n",
    "import shutil\n",
    "from pathlib import Path\n",
    "\n",
    "import pandas as pd"
   ]
  },
  {
   "cell_type": "code",
   "execution_count": 2,
   "metadata": {},
   "outputs": [],
   "source": [
    "data_path = Path(\"../data/report_tables_cropped\")\n",
    "table_dirs = [\"tables_1_3_top\", \"tables_1_3_bottom\"]\n",
    "\n",
    "output_dir = Path(\"../data/batch_split\")\n",
    "output_table_dirs = [\"top\", \"bottom\"]"
   ]
  },
  {
   "cell_type": "code",
   "execution_count": 3,
   "metadata": {},
   "outputs": [],
   "source": [
    "data_top_path = data_path / table_dirs[0]\n",
    "data_bottom_path = data_path / table_dirs[1]\n",
    "\n",
    "output_dir_top = output_dir / output_table_dirs[0]\n",
    "output_dir_bottom = output_dir / output_table_dirs[1]\n",
    "\n",
    "output_dir_top.mkdir(exist_ok=True)\n",
    "output_dir_bottom.mkdir(exist_ok=True)"
   ]
  },
  {
   "cell_type": "code",
   "execution_count": 5,
   "metadata": {},
   "outputs": [],
   "source": [
    "data_top_files = sorted(list(data_top_path.iterdir()))\n",
    "data_bottom_files = sorted(list(data_bottom_path.iterdir()))"
   ]
  },
  {
   "cell_type": "code",
   "execution_count": null,
   "metadata": {},
   "outputs": [],
   "source": [
    "data_top_files[0]"
   ]
  },
  {
   "cell_type": "code",
   "execution_count": 5,
   "metadata": {},
   "outputs": [],
   "source": [
    "batches = math.ceil(len(data_top_files) / 500)\n",
    "for i in range(1, batches + 1):\n",
    "    files = data_top_files[500*(i-1):500*i]\n",
    "    df = pd.DataFrame(data={\"paths\": files})\n",
    "    df.to_csv(output_dir_top / f\"{i}.csv\", index=False)"
   ]
  },
  {
   "cell_type": "code",
   "execution_count": 6,
   "metadata": {},
   "outputs": [],
   "source": [
    "batches = math.ceil(len(data_bottom_files) / 500)\n",
    "for i in range(1, batches + 1):\n",
    "    files = data_bottom_files[500*(i-1):500*i]\n",
    "    df = pd.DataFrame(data={\"paths\": files})\n",
    "    df.to_csv(output_dir_bottom / f\"{i}.csv\", index=False)"
   ]
  }
 ],
 "metadata": {
  "kernelspec": {
   "display_name": ".venv",
   "language": "python",
   "name": "python3"
  },
  "language_info": {
   "codemirror_mode": {
    "name": "ipython",
    "version": 3
   },
   "file_extension": ".py",
   "mimetype": "text/x-python",
   "name": "python",
   "nbconvert_exporter": "python",
   "pygments_lexer": "ipython3",
   "version": "3.10.12"
  }
 },
 "nbformat": 4,
 "nbformat_minor": 2
}
