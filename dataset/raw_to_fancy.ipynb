{
 "cells": [
  {
   "cell_type": "markdown",
   "metadata": {},
   "source": [
    "# Normalizing the raw data\n",
    "\n",
    "This is how raw meteo data is preprocessed. "
   ]
  },
  {
   "cell_type": "code",
   "execution_count": 1,
   "metadata": {},
   "outputs": [],
   "source": [
    "import os\n",
    "import pandas as pd \n",
    "import numpy as np\n",
    "import seaborn as sns\n",
    "import matplotlib.pyplot as plt"
   ]
  },
  {
   "cell_type": "code",
   "execution_count": null,
   "metadata": {},
   "outputs": [],
   "source": [
    "era_dir = './raw era5/'\n",
    "gsmap_dir = './GSMAP/'\n",
    "chirps_dir = './chirps/'\n",
    "fancy_dir = './fancy_dataset/'\n",
    "    "
   ]
  },
  {
   "cell_type": "code",
   "execution_count": null,
   "metadata": {},
   "outputs": [],
   "source": [
    "for dataframe in os.listdir(era_dir):\n",
    "    mydf = pd.DataFrame()\n",
    "    # loading era5 raw data \n",
    "    eradf = pd.read_csv(era_dir + dataframe, parse_dates=['date'])\n",
    "    mydf['basin_id'] = eradf['basin_id']\n",
    "    mydf['date'] = eradf['date']\n",
    "    mydf['prcp_era'] = eradf['prcp'] * 1000                 # for some reason ERA computes prcp in m not mm\n",
    "    mydf['temp_mean'] = eradf['temp_mean'] - 273.15         # from Kelvin to Celcius\n",
    "    mydf['temp_min'] = eradf['temp_min'] - 273.15\n",
    "    mydf['temp_max'] = eradf['temp_max'] - 273.15\n",
    "    mydf['vp1'] = 0.1 * (eradf['dew_mean'] ** -4.9283) * (10 ** (23.5518 + (-2937.4 / eradf['dew_mean']))) # Dr. Vadim Yapiyev provided this formula\n",
    "    mydf['dew_mean'] = eradf['dew_mean'] - 273.15\n",
    "    mydf['wind_speed'] = (eradf['u_comp_wind'] ** 2 + eradf['v_comp_wind'] ** 2) ** 0.5 # Dr. Vadim Yapiyev provided this formula\n",
    "    mydf['vp2'] = 0.6108 * np.exp(17.27 * mydf['dew_mean'] / (mydf['dew_mean'] + 237.3)) # Dr. Vadim Yapiyev provided this formula \n",
    "    mydf['srad_joules'] = eradf['srad_joules']\n",
    "\n",
    "    # print(mydf)\n",
    "    # print(fancy_dir + dataframe.split('_')[1][:5])\n",
    "    # break\n",
    "\n",
    "    mydf[['basin_id', 'date', 'prcp_era', 'temp_mean', 'temp_min', 'temp_max', 'dew_mean', 'wind_speed', 'vp1', 'vp2', 'srad_joules']].to_csv(fancy_dir + dataframe.split('_')[1][:5] + '.csv', index=False)\n",
    "    print(dataframe.split('_')[1][:5] + ' is DONE')\n"
   ]
  },
  {
   "cell_type": "code",
   "execution_count": null,
   "metadata": {},
   "outputs": [],
   "source": [
    "for dataframe in os.listdir(gsmap_dir):\n",
    "    \n",
    "    bigdf = pd.read_csv(fancy_dir + dataframe.split()[0], parse_dates=['date'])\n",
    "    gsdf = pd.read_csv(gsmap_dir + dataframe.split()[0], parse_dates=['date'])\n",
    "\n",
    "    temp = gsdf[['date', 'prcp']]\n",
    "    merged_df = pd.merge(bigdf, temp, on='date', how='left')\n",
    "    merged_df.rename(columns={'prcp': 'prcp_gsmap'}, inplace=True)\n",
    "    # print(merged_df)\n",
    "    print('\\n')\n",
    "\n",
    "    path = chirps_dir + dataframe.split()[0]\n",
    "    if os.path.exists(path):\n",
    "        chirpsdf = pd.read_csv(path, parse_dates=['date'])\n",
    "        final_df = pd.merge(merged_df, chirpsdf, on='date',how='left')\n",
    "        final_df.rename(columns={'precipitation':'prcp_chirps'}, inplace=True) \n",
    "        # print(final_df.head())\n",
    "        final_df[['basin_id', 'date', 'prcp_era', 'prcp_gsmap', 'prcp_chirps', 'temp_mean', 'temp_min', 'temp_max', 'dew_mean', 'wind_speed', 'vp1', 'vp2', 'srad_joules']].to_csv(fancy_dir + dataframe, index=False)\n",
    "    else :\n",
    "        merged_df['prcp_chirps'] = np.nan\n",
    "        merged_df[['basin_id', 'date', 'prcp_era', 'prcp_gsmap', 'prcp_chirps', 'temp_mean', 'temp_min', 'temp_max', 'dew_mean', 'wind_speed', 'vp1', 'vp2', 'srad_joules']].to_csv(fancy_dir + dataframe, index=False)\n",
    "\n",
    "    print(dataframe.split()[0] + \" is DONE\")\n",
    "    "
   ]
  },
  {
   "cell_type": "code",
   "execution_count": 63,
   "metadata": {},
   "outputs": [],
   "source": [
    "from datetime import datetime\n",
    "import pytz\n",
    "# import astral \n",
    "from astral import LocationInfo\n",
    "from astral.sun import sun\n",
    "\n",
    "def daylight(date, lat, lon, timezone_str='Asia/Almaty'):\n",
    "    # Create a location object with the given latitude and longitude\n",
    "    location = LocationInfo(latitude=lat, longitude=lon)\n",
    "    \n",
    "    # Get the local timezone using the provided timezone string\n",
    "    timezone = pytz.timezone(timezone_str)\n",
    "    \n",
    "    # Combine the date with the minimum time (midnight) and localize it to the timezone\n",
    "    date_local = timezone.localize(datetime.combine(date, datetime.min.time()))\n",
    "    \n",
    "    try:\n",
    "        # Calculate the sunrise and sunset times for the location and date\n",
    "        s = sun(location.observer, date=date_local)\n",
    "        sunrise_local = s['sunrise'].astimezone(timezone)\n",
    "        sunset_local = s['sunset'].astimezone(timezone)\n",
    "        \n",
    "        # Calculate the daylight duration in seconds\n",
    "        daylight_duration = sunset_local - sunrise_local\n",
    "        daylight_seconds = daylight_duration.total_seconds()\n",
    "        \n",
    "        # Handle edge case where daylight duration is negative\n",
    "        if daylight_seconds < 0:\n",
    "            raise ValueError(f\"Negative daylight duration: {daylight_seconds} seconds (Sunrise: {sunrise_local}, Sunset: {sunset_local})\")\n",
    "        \n",
    "    except ValueError:\n",
    "        # Return -1 in case of an error (e.g., invalid location/date, polar night)\n",
    "        daylight_seconds = -1\n",
    "    \n",
    "    return daylight_seconds\n",
    "\n"
   ]
  },
  {
   "cell_type": "code",
   "execution_count": null,
   "metadata": {},
   "outputs": [],
   "source": [
    "coordinates_df = pd.read_csv('selected_hydro_stations.csv')\n",
    "coord = {row['id']: [row['lng'], row['lat']] for _, row in coordinates_df.iterrows()}\n",
    "print(coord)\n",
    "\n",
    "\n",
    "def daylight_count(row):\n",
    "    return daylight(row['date'], coord[row['basin_id']][1], coord[row['basin_id']][0])\n",
    "\n",
    "for elem in os.listdir(era_dir):\n",
    "    df = pd.read_csv(era_dir + elem, parse_dates=['date'])\n",
    "    df['daylight'] = df.apply(daylight_count, axis = 1)\n",
    "    \n",
    "    # Replace -1 with NaN\n",
    "    df['daylight'] = df['daylight'].replace(-1, np.nan)\n",
    "\n",
    "    # Forward fill NaN values, propagating the previous day's valid value\n",
    "    df['daylight'] = df['daylight'].fillna(method='ffill')\n",
    "    \n",
    "    df['srad'] = df['srad_joules'] / df['daylight']\n",
    "    # print(df.head())\n",
    "    # break\n",
    "    df[['basin_id', 'date', 'prcp', 'temp_mean', 'temp_min', 'temp_max', 'dew_mean', 'u_comp_wind', 'v_comp_wind', 'srad_joules', 'daylight', 'srad']].to_csv(era_dir+elem, index=False)\n",
    "    print(elem + \" is Done\")\n",
    "    "
   ]
  },
  {
   "cell_type": "code",
   "execution_count": null,
   "metadata": {},
   "outputs": [],
   "source": [
    "for dataframe in os.listdir(era_dir):\n",
    "    final_df = pd.read_csv(fancy_dir + dataframe.split('_')[1], parse_dates=['date'])\n",
    "    df1 = pd.read_csv(era_dir + dataframe, parse_dates=['date'])\n",
    "    final_df['srad'] = df1['srad']\n",
    "\n",
    "    final_df[['basin_id', 'date', 'prcp_era', 'prcp_gsmap', 'prcp_chirps', 'temp_mean', 'temp_min', 'temp_max', 'dew_mean', 'wind_speed', 'vp1', 'vp2', 'srad']].to_csv(fancy_dir + dataframe.split('_')[1], index=False)\n",
    "    print(dataframe.split('_')[1] + \" is DONE\")\n",
    "    \n"
   ]
  }
 ],
 "metadata": {
  "kernelspec": {
   "display_name": "Python 3",
   "language": "python",
   "name": "python3"
  },
  "language_info": {
   "codemirror_mode": {
    "name": "ipython",
    "version": 3
   },
   "file_extension": ".py",
   "mimetype": "text/x-python",
   "name": "python",
   "nbconvert_exporter": "python",
   "pygments_lexer": "ipython3",
   "version": "3.10.2"
  }
 },
 "nbformat": 4,
 "nbformat_minor": 2
}
