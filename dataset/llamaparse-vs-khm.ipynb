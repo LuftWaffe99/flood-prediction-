{
 "cells": [
  {
   "cell_type": "markdown",
   "metadata": {},
   "source": [
    "# Divergence Analysis of PDF Yearbooks and Web Portal data\n",
    "\n",
    "PDF Yearbooks -- Streamflow data that were parsed using LlamaParse from annual PDF yearbooks.\\\n",
    "Web Portal -- Streamflow data that were parsed using our [parser](./kazhydromet_parser/web_parser_hydro.py) from Web Portal.\n",
    "\n",
    "NOTE: Both are from KazHydroMet"
   ]
  },
  {
   "cell_type": "code",
   "execution_count": 1,
   "metadata": {},
   "outputs": [],
   "source": [
    "import pandas as pd\n",
    "import os \n",
    "import numpy as np\n",
    "import seaborn as sns\n",
    "import matplotlib.pyplot as plt"
   ]
  },
  {
   "cell_type": "code",
   "execution_count": null,
   "metadata": {},
   "outputs": [],
   "source": [
    "path1 = './streamflow_default_units/' # aka Web Portal (also _khm)\n",
    "path2 = './new/streamflow/' # aka PDF Yearbooks parsed by LlamaParse (also _llama)  "
   ]
  },
  {
   "cell_type": "code",
   "execution_count": 3,
   "metadata": {},
   "outputs": [
    {
     "name": "stdout",
     "output_type": "stream",
     "text": [
      "This is not in KazHydromet's website: 11242.csv\n",
      "This is not in KazHydromet's website: 19013.csv\n",
      "This is not in KazHydromet's website: 77895.csv\n"
     ]
    }
   ],
   "source": [
    "for file in os.listdir(path2):\n",
    "    # print(f\"... Analyzing the following {file} -- \")\n",
    "    name = file.split('.')[0]\n",
    "    \n",
    "    if (file not in os.listdir(path1)):\n",
    "        print(\"This is not in KazHydromet's website: \" + file)\n",
    "        continue\n",
    "\n",
    "    df1 = pd.read_csv(path1 + file)\n",
    "    df2 = pd.read_csv(path2 + file)\n",
    "\n",
    "    # merging to get the scatterplot and equal dimensions\n",
    "    merged = df1.merge(df2, on=['date'], how='outer', suffixes=('_khm', '_llama'))\n",
    "\n",
    "    output_dir = 'new/analysis/' + name \n",
    "    os.makedirs(output_dir, exist_ok=True)\n",
    "\n",
    "    # dataframe for unmatched values\n",
    "    df = merged[merged['discharge_llama'] != merged['discharge_khm']]\n",
    "    df.to_csv(output_dir + f'/non-matching_{name}.csv', index=False)\n",
    "    # print(\"-------------DONE!-----------\\n\\n\")\n",
    "    # break"
   ]
  },
  {
   "cell_type": "code",
   "execution_count": 4,
   "metadata": {},
   "outputs": [
    {
     "name": "stdout",
     "output_type": "stream",
     "text": [
      "This is not in KazHydromet's website: 11242.csv\n",
      "This is not in KazHydromet's website: 19013.csv\n",
      "This is not in KazHydromet's website: 77895.csv\n"
     ]
    }
   ],
   "source": [
    "for file in os.listdir(path2):\n",
    "    name = file.split('.')[0]\n",
    "    \n",
    "    if (file not in os.listdir(path1)):\n",
    "        print(\"This is not in KazHydromet's website: \" + file)\n",
    "        continue\n",
    "\n",
    "    df1 = pd.read_csv(path1 + file)\n",
    "    df2 = pd.read_csv(path2 + file)\n",
    "\n",
    "    # merging to get the scatterplot and equal dimensions\n",
    "    merged = df1.merge(df2, on=['date'], how='outer', suffixes=('_khm', '_llama'))\n",
    "    merged['discharge_llama'] = pd.to_numeric(merged['discharge_llama'], errors='coerce')\n",
    "    merged['discharge_khm'] = pd.to_numeric(merged['discharge_khm'], errors='coerce')\n",
    "\n",
    "    output_dir = 'new/analysis/' + name \n",
    "    os.makedirs(output_dir, exist_ok=True)\n",
    "\n",
    "    # simple plot settings  \n",
    "    plt.figure(figsize=(20, 10))\n",
    "    plt.plot(merged['discharge_llama'], label='llamaparse', linestyle='--', marker='d')\n",
    "    plt.plot(merged['discharge_khm'], label='khm', linestyle='-', marker='d')\n",
    "    plt.title('Llamaparse and Khm comparison')\n",
    "    plt.xlabel('Date')\n",
    "    plt.ylabel('Discharge Values')\n",
    "    plt.legend()\n",
    "    plt.grid(True)\n",
    "    plot_path = os.path.join(output_dir, f'plot_{name}.png')\n",
    "    plt.savefig(plot_path)\n",
    "    plt.close()\n",
    "    # break"
   ]
  },
  {
   "cell_type": "code",
   "execution_count": 5,
   "metadata": {},
   "outputs": [
    {
     "name": "stdout",
     "output_type": "stream",
     "text": [
      "This is not in KazHydromet's website: 11242.csv\n",
      "This is not in KazHydromet's website: 19013.csv\n",
      "This is not in KazHydromet's website: 77895.csv\n"
     ]
    }
   ],
   "source": [
    "for file in os.listdir(path2):\n",
    "    name = file.split('.')[0]\n",
    "    \n",
    "    if (file not in os.listdir(path1)):\n",
    "        print(\"This is not in KazHydromet's website: \" + file)\n",
    "        continue\n",
    "\n",
    "    df1 = pd.read_csv(path1 + file)\n",
    "    df2 = pd.read_csv(path2 + file)\n",
    "\n",
    "    # merging to get the scatterplot and equal dimensions\n",
    "    merged = df1.merge(df2, on=['date'], how='outer', suffixes=('_khm', '_llama'))\n",
    "    merged['discharge_llama'] = pd.to_numeric(merged['discharge_llama'], errors='coerce')\n",
    "    merged['discharge_khm'] = pd.to_numeric(merged['discharge_khm'], errors='coerce')\n",
    "\n",
    "    output_dir = 'new/analysis/' + name \n",
    "    os.makedirs(output_dir, exist_ok=True)\n",
    "\n",
    "    # scatterplot settings\n",
    "    plt.scatter(merged['discharge_llama'], merged['discharge_khm'])\n",
    "    plt.xlabel('LlamaParse result')\n",
    "    plt.ylabel('KazHydroMet')\n",
    "    plt.title('Scatterplot for ' + name)\n",
    "    scatter_path = os.path.join(output_dir, f'scatterplot_{name}.png')\n",
    "    plt.savefig(scatter_path)\n",
    "    plt.close()"
   ]
  },
  {
   "cell_type": "code",
   "execution_count": 7,
   "metadata": {},
   "outputs": [
    {
     "name": "stdout",
     "output_type": "stream",
     "text": [
      "This is not in KazHydromet's website: 11242.csv\n",
      "This is not in KazHydromet's website: 19013.csv\n",
      "This is not in KazHydromet's website: 77895.csv\n"
     ]
    }
   ],
   "source": [
    "for file in os.listdir(path2):\n",
    "    # print(f\"... Analyzing the following {file} -- \")\n",
    "    name = file.split('.')[0]\n",
    "    \n",
    "    if (file not in os.listdir(path1)):\n",
    "        print(\"This is not in KazHydromet's website: \" + file)\n",
    "        continue\n",
    "\n",
    "    df1 = pd.read_csv(path1 + file)\n",
    "    df2 = pd.read_csv(path2 + file)\n",
    "\n",
    "    # merging to get the scatterplot and equal dimensions\n",
    "    merged = df1.merge(df2, on=['date'], how='outer', suffixes=('_khm', '_llama'))\n",
    "    merged['discharge_llama'] = pd.to_numeric(merged['discharge_llama'], errors='coerce')\n",
    "    merged['discharge_khm'] = pd.to_numeric(merged['discharge_khm'], errors='coerce')\n",
    "    \n",
    "    output_dir = 'new/divergence_no_nans/' \n",
    "    os.makedirs(output_dir, exist_ok=True)\n",
    "\n",
    "    # dataframe for unmatched values\n",
    "    non_matching = merged[\n",
    "        (merged['discharge_khm'].notna()) & \n",
    "        (merged['discharge_llama'].notna()) & \n",
    "        (merged['discharge_khm'] != merged['discharge_llama'])\n",
    "    ]\n",
    "    non_matching.to_csv(output_dir + f'/no_nans_{name}.csv', index=False)\n",
    "    # print(\"-------------DONE!-----------\\n\\n\")\n",
    "    # break"
   ]
  }
 ],
 "metadata": {
  "kernelspec": {
   "display_name": "Python 3",
   "language": "python",
   "name": "python3"
  },
  "language_info": {
   "codemirror_mode": {
    "name": "ipython",
    "version": 3
   },
   "file_extension": ".py",
   "mimetype": "text/x-python",
   "name": "python",
   "nbconvert_exporter": "python",
   "pygments_lexer": "ipython3",
   "version": "3.10.2"
  }
 },
 "nbformat": 4,
 "nbformat_minor": 2
}
