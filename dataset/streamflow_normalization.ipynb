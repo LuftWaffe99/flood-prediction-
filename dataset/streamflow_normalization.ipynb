{
 "cells": [
  {
   "cell_type": "markdown",
   "metadata": {},
   "source": [
    "# Streamflow normalization. \n",
    "\n",
    "KazHydroMet initially collects streamflow data in [m^3/s]. Ensuring the NeuralHydrology guidelines, \n",
    "streamflow (discharge) values should be [mm/day], which could be done by area normalization."
   ]
  },
  {
   "cell_type": "code",
   "execution_count": null,
   "metadata": {},
   "outputs": [],
   "source": [
    "import pandas as pd \n",
    "import os \n",
    "import numpy as np \n",
    "import seaborn as sns \n",
    "import matplotlib.pyplot as plt"
   ]
  },
  {
   "cell_type": "code",
   "execution_count": null,
   "metadata": {},
   "outputs": [],
   "source": [
    "area_values = pd.read_csv(\"\")  # define your path\n",
    "# area_values.rename(columns={'Catchment_ID': \"basin_id\", \"Area_sq_km\": \"area_gages2\"}, inplace=True)\n",
    "area_values"
   ]
  },
  {
   "cell_type": "code",
   "execution_count": null,
   "metadata": {},
   "outputs": [],
   "source": [
    "area_values['basin_id'] = area_values['basin_id'].apply(lambda x: x.split('/')[-1])\n",
    "area_values"
   ]
  },
  {
   "cell_type": "code",
   "execution_count": null,
   "metadata": {},
   "outputs": [],
   "source": [
    "area_values['basin_id'] = area_values['basin_id'].apply(lambda x: str(x))\n",
    "area_values"
   ]
  },
  {
   "cell_type": "markdown",
   "metadata": {},
   "source": [
    "Area values are ready for the normalization"
   ]
  },
  {
   "cell_type": "code",
   "execution_count": null,
   "metadata": {},
   "outputs": [],
   "source": [
    "path1 = \"\"                  # define your path, for sigma dataset \n",
    "path2 = \"\"                  # define your path, for omega dataset"
   ]
  },
  {
   "cell_type": "code",
   "execution_count": null,
   "metadata": {},
   "outputs": [],
   "source": [
    "import shutil\n",
    "\n",
    "# Move the file\n",
    "# shutil.move(source_file, destination_dir)"
   ]
  },
  {
   "cell_type": "code",
   "execution_count": null,
   "metadata": {},
   "outputs": [],
   "source": [
    "for file in os.listdir(path1):\n",
    "\n",
    "    if (file not in os.listdir(path2)):\n",
    "        print(\"This file is not in Yearbooks: \" + file)\n",
    "        shutil.copy(path1 + file, 'omega/' + file)\n",
    "        continue\n",
    "    \n",
    "    khm = pd.read_csv(path1 + file)\n",
    "    llama = pd.read_csv(path2 + file)\n",
    "\n",
    "    # Merge on date, keep all dates\n",
    "    merged = pd.merge(khm, llama, on='date', how='outer', suffixes=('_khm', '_llama'))\n",
    "\n",
    "    # Fill values: use Llama Values if not NaN, else use file2\n",
    "    merged['discharge'] = merged['discharge_llama'].combine_first(merged['discharge_khm'])\n",
    "\n",
    "    # Keep only date and merged value\n",
    "    merged = merged[['date', 'discharge']]\n",
    "\n",
    "    # Filter by date range\n",
    "    filtered = merged[(merged['date'] >= '2000-01-01') & (merged['date'] <= '2022-12-31')]\n",
    "\n",
    "    filtered.to_csv('omega/' + file, index=False)\n",
    "    print(f'this file {file} is done\\n')\n"
   ]
  },
  {
   "cell_type": "code",
   "execution_count": null,
   "metadata": {},
   "outputs": [],
   "source": [
    "for file in os.listdir(path2):\n",
    "    if file not in os.listdir(path1): \n",
    "        print(file)\n",
    "        shutil.copy(path2 + file, 'omega/' + file)"
   ]
  },
  {
   "cell_type": "code",
   "execution_count": null,
   "metadata": {},
   "outputs": [],
   "source": [
    "area = area_values.to_dict('split')\n",
    "temp = dict(area['data'])\n"
   ]
  },
  {
   "cell_type": "code",
   "execution_count": null,
   "metadata": {},
   "outputs": [],
   "source": [
    "for file in os.listdir('omega/'):\n",
    "    if (file in os.listdir('omega_norm/')):\n",
    "        continue\n",
    "    tempo = pd.read_csv('omega/' + file)\n",
    "    tempo['discharge'] = tempo['discharge'].replace('', np.nan)\n",
    "    tempo['discharge'] = tempo['discharge'].astype(float)\n",
    "    tempo.to_csv('omega_norm/' + file, index=False)\n",
    "    print(file + \" is done \\n\")"
   ]
  },
  {
   "cell_type": "code",
   "execution_count": null,
   "metadata": {},
   "outputs": [],
   "source": [
    "for file in os.listdir('omega_norm/'):\n",
    "    tempo = pd.read_csv('omega_norm/' + file)\n",
    "    tempo['discharge'] = (tempo['discharge'].astype(float) * 86.4) / temp[file.split('.')[0]]\n",
    "    tempo.to_csv('omega_norm/' + file, index=False)\n",
    "    print(file + \" is done \\n\")"
   ]
  }
 ],
 "metadata": {
  "kernelspec": {
   "display_name": "Python 3",
   "language": "python",
   "name": "python3"
  },
  "language_info": {
   "codemirror_mode": {
    "name": "ipython",
    "version": 3
   },
   "file_extension": ".py",
   "mimetype": "text/x-python",
   "name": "python",
   "nbconvert_exporter": "python",
   "pygments_lexer": "ipython3",
   "version": "3.10.2"
  }
 },
 "nbformat": 4,
 "nbformat_minor": 2
}
